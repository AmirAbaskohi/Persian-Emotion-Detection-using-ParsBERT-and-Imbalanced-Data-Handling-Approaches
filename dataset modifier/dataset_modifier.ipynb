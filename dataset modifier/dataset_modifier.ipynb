{
 "cells": [
  {
   "cell_type": "markdown",
   "id": "d6b47b2f-dc49-43b0-adab-c0b7c1cb39ae",
   "metadata": {
    "tags": []
   },
   "source": [
    "# Creating Datasets"
   ]
  },
  {
   "cell_type": "markdown",
   "id": "864334c3-ea76-45d6-87c5-34b8bf29d9b3",
   "metadata": {},
   "source": [
    "## Reading the main dataset"
   ]
  },
  {
   "cell_type": "code",
   "execution_count": 3,
   "id": "f449d776-70b4-4475-8267-b316aebade6e",
   "metadata": {},
   "outputs": [
    {
     "data": {
      "text/html": [
       "<div>\n",
       "<style scoped>\n",
       "    .dataframe tbody tr th:only-of-type {\n",
       "        vertical-align: middle;\n",
       "    }\n",
       "\n",
       "    .dataframe tbody tr th {\n",
       "        vertical-align: top;\n",
       "    }\n",
       "\n",
       "    .dataframe thead th {\n",
       "        text-align: right;\n",
       "    }\n",
       "</style>\n",
       "<table border=\"1\" class=\"dataframe\">\n",
       "  <thead>\n",
       "    <tr style=\"text-align: right;\">\n",
       "      <th></th>\n",
       "      <th>text</th>\n",
       "      <th>Anger</th>\n",
       "      <th>Fear</th>\n",
       "      <th>Happiness</th>\n",
       "      <th>Hatred</th>\n",
       "      <th>Sadness</th>\n",
       "      <th>Wonder</th>\n",
       "    </tr>\n",
       "  </thead>\n",
       "  <tbody>\n",
       "    <tr>\n",
       "      <th>0</th>\n",
       "      <td>کرونا رو شکست میدهیم؟\\nمرحله بعد چه گوهی میخوا...</td>\n",
       "      <td>4</td>\n",
       "      <td>3</td>\n",
       "      <td>1</td>\n",
       "      <td>3</td>\n",
       "      <td>3</td>\n",
       "      <td>4</td>\n",
       "    </tr>\n",
       "    <tr>\n",
       "      <th>1</th>\n",
       "      <td>اگر در چند ماه اخیر تصمیم داشته اید وارد بورس ...</td>\n",
       "      <td>2</td>\n",
       "      <td>4</td>\n",
       "      <td>1</td>\n",
       "      <td>2</td>\n",
       "      <td>4</td>\n",
       "      <td>2</td>\n",
       "    </tr>\n",
       "    <tr>\n",
       "      <th>2</th>\n",
       "      <td>یکی از پدرسوختگی های #برانداز اینه که ظاهرا ژس...</td>\n",
       "      <td>5</td>\n",
       "      <td>3</td>\n",
       "      <td>2</td>\n",
       "      <td>4</td>\n",
       "      <td>5</td>\n",
       "      <td>2</td>\n",
       "    </tr>\n",
       "    <tr>\n",
       "      <th>3</th>\n",
       "      <td>یکی از دوستای دبستانم</td>\n",
       "      <td>1</td>\n",
       "      <td>0</td>\n",
       "      <td>0</td>\n",
       "      <td>1</td>\n",
       "      <td>0</td>\n",
       "      <td>0</td>\n",
       "    </tr>\n",
       "    <tr>\n",
       "      <th>4</th>\n",
       "      <td>@username اینقدر گرفتار مسایل میشی که تخصص از ...</td>\n",
       "      <td>2</td>\n",
       "      <td>1</td>\n",
       "      <td>0</td>\n",
       "      <td>1</td>\n",
       "      <td>0</td>\n",
       "      <td>4</td>\n",
       "    </tr>\n",
       "  </tbody>\n",
       "</table>\n",
       "</div>"
      ],
      "text/plain": [
       "                                                text  Anger  Fear  Happiness  \\\n",
       "0  کرونا رو شکست میدهیم؟\\nمرحله بعد چه گوهی میخوا...      4     3          1   \n",
       "1  اگر در چند ماه اخیر تصمیم داشته اید وارد بورس ...      2     4          1   \n",
       "2  یکی از پدرسوختگی های #برانداز اینه که ظاهرا ژس...      5     3          2   \n",
       "3                              یکی از دوستای دبستانم      1     0          0   \n",
       "4  @username اینقدر گرفتار مسایل میشی که تخصص از ...      2     1          0   \n",
       "\n",
       "   Hatred  Sadness  Wonder  \n",
       "0       3        3       4  \n",
       "1       2        4       2  \n",
       "2       4        5       2  \n",
       "3       1        0       0  \n",
       "4       1        0       4  "
      ]
     },
     "execution_count": 3,
     "metadata": {},
     "output_type": "execute_result"
    }
   ],
   "source": [
    "import pandas as pd\n",
    "\n",
    "df = pd.read_csv('../main dataset/dataset.csv')\n",
    "df.head()"
   ]
  },
  {
   "cell_type": "code",
   "execution_count": 4,
   "id": "6b1a424c-5f68-4e58-ac26-c6605c1ba7bb",
   "metadata": {},
   "outputs": [
    {
     "data": {
      "text/plain": [
       "<AxesSubplot:>"
      ]
     },
     "execution_count": 4,
     "metadata": {},
     "output_type": "execute_result"
    },
    {
     "data": {
      "image/png": "[encoded data removed]",
      "text/plain": [
       "<Figure size 432x288 with 1 Axes>"
      ]
     },
     "metadata": {
      "needs_background": "light"
     },
     "output_type": "display_data"
    }
   ],
   "source": [
    "df['Anger'].value_counts().sort_values().plot(kind = 'barh')"
   ]
  },
  {
   "cell_type": "code",
   "execution_count": 5,
   "id": "87ff9379-ce4f-4439-b0f3-676b4499b1d8",
   "metadata": {},
   "outputs": [
    {
     "data": {
      "text/plain": [
       "<AxesSubplot:>"
      ]
     },
     "execution_count": 5,
     "metadata": {},
     "output_type": "execute_result"
    },
    {
     "data": {
      "image/png": "[encoded data removed]",
      "text/plain": [
       "<Figure size 432x288 with 1 Axes>"
      ]
     },
     "metadata": {
      "needs_background": "light"
     },
     "output_type": "display_data"
    }
   ],
   "source": [
    "df['Fear'].value_counts().sort_values().plot(kind = 'barh')"
   ]
  },
  {
   "cell_type": "code",
   "execution_count": 6,
   "id": "eda9d547-0b3b-42a5-a535-6128aed286f1",
   "metadata": {},
   "outputs": [
    {
     "data": {
      "text/plain": [
       "<AxesSubplot:>"
      ]
     },
     "execution_count": 6,
     "metadata": {},
     "output_type": "execute_result"
    },
    {
     "data": {
      "image/png": "[encoded data removed]",
      "text/plain": [
       "<Figure size 432x288 with 1 Axes>"
      ]
     },
     "metadata": {
      "needs_background": "light"
     },
     "output_type": "display_data"
    }
   ],
   "source": [
    "df['Happiness'].value_counts().sort_values().plot(kind = 'barh')"
   ]
  },
  {
   "cell_type": "code",
   "execution_count": 7,
   "id": "868c8f98-cae4-405c-8810-5364069088ff",
   "metadata": {},
   "outputs": [
    {
     "data": {
      "text/plain": [
       "<AxesSubplot:>"
      ]
     },
     "execution_count": 7,
     "metadata": {},
     "output_type": "execute_result"
    },
    {
     "data": {
      "image/png": "[encoded data removed]",
      "text/plain": [
       "<Figure size 432x288 with 1 Axes>"
      ]
     },
     "metadata": {
      "needs_background": "light"
     },
     "output_type": "display_data"
    }
   ],
   "source": [
    "df['Hatred'].value_counts().sort_values().plot(kind = 'barh')"
   ]
  },
  {
   "cell_type": "code",
   "execution_count": 8,
   "id": "bb30ed05-293a-4c62-80c3-f8bd5ebd7759",
   "metadata": {},
   "outputs": [
    {
     "data": {
      "text/plain": [
       "<AxesSubplot:>"
      ]
     },
     "execution_count": 8,
     "metadata": {},
     "output_type": "execute_result"
    },
    {
     "data": {
      "image/png": "[encoded data removed]",
      "text/plain": [
       "<Figure size 432x288 with 1 Axes>"
      ]
     },
     "metadata": {
      "needs_background": "light"
     },
     "output_type": "display_data"
    }
   ],
   "source": [
    "df['Sadness'].value_counts().sort_values().plot(kind = 'barh')"
   ]
  },
  {
   "cell_type": "code",
   "execution_count": 9,
   "id": "658a3aba-c1bc-4550-9c50-bbbf3fcdc7a8",
   "metadata": {},
   "outputs": [
    {
     "data": {
      "text/plain": [
       "<AxesSubplot:>"
      ]
     },
     "execution_count": 9,
     "metadata": {},
     "output_type": "execute_result"
    },
    {
     "data": {
      "image/png": "[encoded data removed]",
      "text/plain": [
       "<Figure size 432x288 with 1 Axes>"
      ]
     },
     "metadata": {
      "needs_background": "light"
     },
     "output_type": "display_data"
    }
   ],
   "source": [
    "df['Wonder'].value_counts().sort_values().plot(kind = 'barh')"
   ]
  },
  {
   "cell_type": "markdown",
   "id": "dbe31cf1-c418-4bab-893a-3ccba8ad93de",
   "metadata": {},
   "source": [
    "## Creating datasets with threshold"
   ]
  },
  {
   "cell_type": "code",
   "execution_count": 19,
   "id": "90253436-42fa-4fcd-b4ca-3dd2ca03d516",
   "metadata": {},
   "outputs": [],
   "source": [
    "def updateLabelsWithThreshold(df, threshold):\n",
    "    result = df.copy()\n",
    "    for column in df:\n",
    "        if column == 'text':\n",
    "            continue\n",
    "        result.loc[result[column] < threshold, column] = 0\n",
    "        result.loc[result[column] >= threshold, column] = 1\n",
    "    return result"
   ]
  },
  {
   "cell_type": "code",
   "execution_count": 28,
   "id": "20c8617c-6614-4d4d-a4fd-5edf93b1baef",
   "metadata": {},
   "outputs": [],
   "source": [
    "dfThreshold5 = updateLabelsWithThreshold(df, 5)\n",
    "dfThreshold4 = updateLabelsWithThreshold(df, 4)\n",
    "dfThreshold3 = updateLabelsWithThreshold(df, 3)\n",
    "dfThreshold2 = updateLabelsWithThreshold(df, 2)\n",
    "dfThreshold1 = updateLabelsWithThreshold(df, 1)"
   ]
  },
  {
   "cell_type": "code",
   "execution_count": 24,
   "id": "1215c076-8afd-4594-87c2-961bee351063",
   "metadata": {},
   "outputs": [
    {
     "data": {
      "text/html": [
       "<div>\n",
       "<style scoped>\n",
       "    .dataframe tbody tr th:only-of-type {\n",
       "        vertical-align: middle;\n",
       "    }\n",
       "\n",
       "    .dataframe tbody tr th {\n",
       "        vertical-align: top;\n",
       "    }\n",
       "\n",
       "    .dataframe thead th {\n",
       "        text-align: right;\n",
       "    }\n",
       "</style>\n",
       "<table border=\"1\" class=\"dataframe\">\n",
       "  <thead>\n",
       "    <tr style=\"text-align: right;\">\n",
       "      <th></th>\n",
       "      <th>text</th>\n",
       "      <th>Anger</th>\n",
       "      <th>Fear</th>\n",
       "      <th>Happiness</th>\n",
       "      <th>Hatred</th>\n",
       "      <th>Sadness</th>\n",
       "      <th>Wonder</th>\n",
       "    </tr>\n",
       "  </thead>\n",
       "  <tbody>\n",
       "    <tr>\n",
       "      <th>0</th>\n",
       "      <td>کرونا رو شکست میدهیم؟\\nمرحله بعد چه گوهی میخوا...</td>\n",
       "      <td>0</td>\n",
       "      <td>0</td>\n",
       "      <td>0</td>\n",
       "      <td>0</td>\n",
       "      <td>0</td>\n",
       "      <td>0</td>\n",
       "    </tr>\n",
       "    <tr>\n",
       "      <th>1</th>\n",
       "      <td>اگر در چند ماه اخیر تصمیم داشته اید وارد بورس ...</td>\n",
       "      <td>0</td>\n",
       "      <td>0</td>\n",
       "      <td>0</td>\n",
       "      <td>0</td>\n",
       "      <td>0</td>\n",
       "      <td>0</td>\n",
       "    </tr>\n",
       "    <tr>\n",
       "      <th>2</th>\n",
       "      <td>یکی از پدرسوختگی های #برانداز اینه که ظاهرا ژس...</td>\n",
       "      <td>1</td>\n",
       "      <td>0</td>\n",
       "      <td>0</td>\n",
       "      <td>0</td>\n",
       "      <td>1</td>\n",
       "      <td>0</td>\n",
       "    </tr>\n",
       "    <tr>\n",
       "      <th>3</th>\n",
       "      <td>یکی از دوستای دبستانم</td>\n",
       "      <td>0</td>\n",
       "      <td>0</td>\n",
       "      <td>0</td>\n",
       "      <td>0</td>\n",
       "      <td>0</td>\n",
       "      <td>0</td>\n",
       "    </tr>\n",
       "    <tr>\n",
       "      <th>4</th>\n",
       "      <td>@username اینقدر گرفتار مسایل میشی که تخصص از ...</td>\n",
       "      <td>0</td>\n",
       "      <td>0</td>\n",
       "      <td>0</td>\n",
       "      <td>0</td>\n",
       "      <td>0</td>\n",
       "      <td>0</td>\n",
       "    </tr>\n",
       "  </tbody>\n",
       "</table>\n",
       "</div>"
      ],
      "text/plain": [
       "                                                text  Anger  Fear  Happiness  \\\n",
       "0  کرونا رو شکست میدهیم؟\\nمرحله بعد چه گوهی میخوا...      0     0          0   \n",
       "1  اگر در چند ماه اخیر تصمیم داشته اید وارد بورس ...      0     0          0   \n",
       "2  یکی از پدرسوختگی های #برانداز اینه که ظاهرا ژس...      1     0          0   \n",
       "3                              یکی از دوستای دبستانم      0     0          0   \n",
       "4  @username اینقدر گرفتار مسایل میشی که تخصص از ...      0     0          0   \n",
       "\n",
       "   Hatred  Sadness  Wonder  \n",
       "0       0        0       0  \n",
       "1       0        0       0  \n",
       "2       0        1       0  \n",
       "3       0        0       0  \n",
       "4       0        0       0  "
      ]
     },
     "execution_count": 24,
     "metadata": {},
     "output_type": "execute_result"
    }
   ],
   "source": [
    "dfThreshold5.head()"
   ]
  },
  {
   "cell_type": "code",
   "execution_count": 25,
   "id": "fedf1082-2c02-4a63-8567-75a6c970a377",
   "metadata": {},
   "outputs": [
    {
     "data": {
      "text/html": [
       "<div>\n",
       "<style scoped>\n",
       "    .dataframe tbody tr th:only-of-type {\n",
       "        vertical-align: middle;\n",
       "    }\n",
       "\n",
       "    .dataframe tbody tr th {\n",
       "        vertical-align: top;\n",
       "    }\n",
       "\n",
       "    .dataframe thead th {\n",
       "        text-align: right;\n",
       "    }\n",
       "</style>\n",
       "<table border=\"1\" class=\"dataframe\">\n",
       "  <thead>\n",
       "    <tr style=\"text-align: right;\">\n",
       "      <th></th>\n",
       "      <th>text</th>\n",
       "      <th>Anger</th>\n",
       "      <th>Fear</th>\n",
       "      <th>Happiness</th>\n",
       "      <th>Hatred</th>\n",
       "      <th>Sadness</th>\n",
       "      <th>Wonder</th>\n",
       "    </tr>\n",
       "  </thead>\n",
       "  <tbody>\n",
       "    <tr>\n",
       "      <th>0</th>\n",
       "      <td>کرونا رو شکست میدهیم؟\\nمرحله بعد چه گوهی میخوا...</td>\n",
       "      <td>1</td>\n",
       "      <td>0</td>\n",
       "      <td>0</td>\n",
       "      <td>0</td>\n",
       "      <td>0</td>\n",
       "      <td>1</td>\n",
       "    </tr>\n",
       "    <tr>\n",
       "      <th>1</th>\n",
       "      <td>اگر در چند ماه اخیر تصمیم داشته اید وارد بورس ...</td>\n",
       "      <td>0</td>\n",
       "      <td>1</td>\n",
       "      <td>0</td>\n",
       "      <td>0</td>\n",
       "      <td>1</td>\n",
       "      <td>0</td>\n",
       "    </tr>\n",
       "    <tr>\n",
       "      <th>2</th>\n",
       "      <td>یکی از پدرسوختگی های #برانداز اینه که ظاهرا ژس...</td>\n",
       "      <td>1</td>\n",
       "      <td>0</td>\n",
       "      <td>0</td>\n",
       "      <td>1</td>\n",
       "      <td>1</td>\n",
       "      <td>0</td>\n",
       "    </tr>\n",
       "    <tr>\n",
       "      <th>3</th>\n",
       "      <td>یکی از دوستای دبستانم</td>\n",
       "      <td>0</td>\n",
       "      <td>0</td>\n",
       "      <td>0</td>\n",
       "      <td>0</td>\n",
       "      <td>0</td>\n",
       "      <td>0</td>\n",
       "    </tr>\n",
       "    <tr>\n",
       "      <th>4</th>\n",
       "      <td>@username اینقدر گرفتار مسایل میشی که تخصص از ...</td>\n",
       "      <td>0</td>\n",
       "      <td>0</td>\n",
       "      <td>0</td>\n",
       "      <td>0</td>\n",
       "      <td>0</td>\n",
       "      <td>1</td>\n",
       "    </tr>\n",
       "  </tbody>\n",
       "</table>\n",
       "</div>"
      ],
      "text/plain": [
       "                                                text  Anger  Fear  Happiness  \\\n",
       "0  کرونا رو شکست میدهیم؟\\nمرحله بعد چه گوهی میخوا...      1     0          0   \n",
       "1  اگر در چند ماه اخیر تصمیم داشته اید وارد بورس ...      0     1          0   \n",
       "2  یکی از پدرسوختگی های #برانداز اینه که ظاهرا ژس...      1     0          0   \n",
       "3                              یکی از دوستای دبستانم      0     0          0   \n",
       "4  @username اینقدر گرفتار مسایل میشی که تخصص از ...      0     0          0   \n",
       "\n",
       "   Hatred  Sadness  Wonder  \n",
       "0       0        0       1  \n",
       "1       0        1       0  \n",
       "2       1        1       0  \n",
       "3       0        0       0  \n",
       "4       0        0       1  "
      ]
     },
     "execution_count": 25,
     "metadata": {},
     "output_type": "execute_result"
    }
   ],
   "source": [
    "dfThreshold4.head()"
   ]
  },
  {
   "cell_type": "code",
   "execution_count": 26,
   "id": "4c5562e0-6347-42d3-8104-26a5e1c89777",
   "metadata": {},
   "outputs": [
    {
     "data": {
      "text/html": [
       "<div>\n",
       "<style scoped>\n",
       "    .dataframe tbody tr th:only-of-type {\n",
       "        vertical-align: middle;\n",
       "    }\n",
       "\n",
       "    .dataframe tbody tr th {\n",
       "        vertical-align: top;\n",
       "    }\n",
       "\n",
       "    .dataframe thead th {\n",
       "        text-align: right;\n",
       "    }\n",
       "</style>\n",
       "<table border=\"1\" class=\"dataframe\">\n",
       "  <thead>\n",
       "    <tr style=\"text-align: right;\">\n",
       "      <th></th>\n",
       "      <th>text</th>\n",
       "      <th>Anger</th>\n",
       "      <th>Fear</th>\n",
       "      <th>Happiness</th>\n",
       "      <th>Hatred</th>\n",
       "      <th>Sadness</th>\n",
       "      <th>Wonder</th>\n",
       "    </tr>\n",
       "  </thead>\n",
       "  <tbody>\n",
       "    <tr>\n",
       "      <th>0</th>\n",
       "      <td>کرونا رو شکست میدهیم؟\\nمرحله بعد چه گوهی میخوا...</td>\n",
       "      <td>1</td>\n",
       "      <td>1</td>\n",
       "      <td>0</td>\n",
       "      <td>1</td>\n",
       "      <td>1</td>\n",
       "      <td>1</td>\n",
       "    </tr>\n",
       "    <tr>\n",
       "      <th>1</th>\n",
       "      <td>اگر در چند ماه اخیر تصمیم داشته اید وارد بورس ...</td>\n",
       "      <td>0</td>\n",
       "      <td>1</td>\n",
       "      <td>0</td>\n",
       "      <td>0</td>\n",
       "      <td>1</td>\n",
       "      <td>0</td>\n",
       "    </tr>\n",
       "    <tr>\n",
       "      <th>2</th>\n",
       "      <td>یکی از پدرسوختگی های #برانداز اینه که ظاهرا ژس...</td>\n",
       "      <td>1</td>\n",
       "      <td>1</td>\n",
       "      <td>0</td>\n",
       "      <td>1</td>\n",
       "      <td>1</td>\n",
       "      <td>0</td>\n",
       "    </tr>\n",
       "    <tr>\n",
       "      <th>3</th>\n",
       "      <td>یکی از دوستای دبستانم</td>\n",
       "      <td>0</td>\n",
       "      <td>0</td>\n",
       "      <td>0</td>\n",
       "      <td>0</td>\n",
       "      <td>0</td>\n",
       "      <td>0</td>\n",
       "    </tr>\n",
       "    <tr>\n",
       "      <th>4</th>\n",
       "      <td>@username اینقدر گرفتار مسایل میشی که تخصص از ...</td>\n",
       "      <td>0</td>\n",
       "      <td>0</td>\n",
       "      <td>0</td>\n",
       "      <td>0</td>\n",
       "      <td>0</td>\n",
       "      <td>1</td>\n",
       "    </tr>\n",
       "  </tbody>\n",
       "</table>\n",
       "</div>"
      ],
      "text/plain": [
       "                                                text  Anger  Fear  Happiness  \\\n",
       "0  کرونا رو شکست میدهیم؟\\nمرحله بعد چه گوهی میخوا...      1     1          0   \n",
       "1  اگر در چند ماه اخیر تصمیم داشته اید وارد بورس ...      0     1          0   \n",
       "2  یکی از پدرسوختگی های #برانداز اینه که ظاهرا ژس...      1     1          0   \n",
       "3                              یکی از دوستای دبستانم      0     0          0   \n",
       "4  @username اینقدر گرفتار مسایل میشی که تخصص از ...      0     0          0   \n",
       "\n",
       "   Hatred  Sadness  Wonder  \n",
       "0       1        1       1  \n",
       "1       0        1       0  \n",
       "2       1        1       0  \n",
       "3       0        0       0  \n",
       "4       0        0       1  "
      ]
     },
     "execution_count": 26,
     "metadata": {},
     "output_type": "execute_result"
    }
   ],
   "source": [
    "dfThreshold3.head()"
   ]
  },
  {
   "cell_type": "code",
   "execution_count": 29,
   "id": "3fc7e0bd-d784-464f-87f3-4e0ab5ea20f5",
   "metadata": {},
   "outputs": [
    {
     "data": {
      "text/html": [
       "<div>\n",
       "<style scoped>\n",
       "    .dataframe tbody tr th:only-of-type {\n",
       "        vertical-align: middle;\n",
       "    }\n",
       "\n",
       "    .dataframe tbody tr th {\n",
       "        vertical-align: top;\n",
       "    }\n",
       "\n",
       "    .dataframe thead th {\n",
       "        text-align: right;\n",
       "    }\n",
       "</style>\n",
       "<table border=\"1\" class=\"dataframe\">\n",
       "  <thead>\n",
       "    <tr style=\"text-align: right;\">\n",
       "      <th></th>\n",
       "      <th>text</th>\n",
       "      <th>Anger</th>\n",
       "      <th>Fear</th>\n",
       "      <th>Happiness</th>\n",
       "      <th>Hatred</th>\n",
       "      <th>Sadness</th>\n",
       "      <th>Wonder</th>\n",
       "    </tr>\n",
       "  </thead>\n",
       "  <tbody>\n",
       "    <tr>\n",
       "      <th>0</th>\n",
       "      <td>کرونا رو شکست میدهیم؟\\nمرحله بعد چه گوهی میخوا...</td>\n",
       "      <td>1</td>\n",
       "      <td>1</td>\n",
       "      <td>0</td>\n",
       "      <td>1</td>\n",
       "      <td>1</td>\n",
       "      <td>1</td>\n",
       "    </tr>\n",
       "    <tr>\n",
       "      <th>1</th>\n",
       "      <td>اگر در چند ماه اخیر تصمیم داشته اید وارد بورس ...</td>\n",
       "      <td>1</td>\n",
       "      <td>1</td>\n",
       "      <td>0</td>\n",
       "      <td>1</td>\n",
       "      <td>1</td>\n",
       "      <td>1</td>\n",
       "    </tr>\n",
       "    <tr>\n",
       "      <th>2</th>\n",
       "      <td>یکی از پدرسوختگی های #برانداز اینه که ظاهرا ژس...</td>\n",
       "      <td>1</td>\n",
       "      <td>1</td>\n",
       "      <td>1</td>\n",
       "      <td>1</td>\n",
       "      <td>1</td>\n",
       "      <td>1</td>\n",
       "    </tr>\n",
       "    <tr>\n",
       "      <th>3</th>\n",
       "      <td>یکی از دوستای دبستانم</td>\n",
       "      <td>0</td>\n",
       "      <td>0</td>\n",
       "      <td>0</td>\n",
       "      <td>0</td>\n",
       "      <td>0</td>\n",
       "      <td>0</td>\n",
       "    </tr>\n",
       "    <tr>\n",
       "      <th>4</th>\n",
       "      <td>@username اینقدر گرفتار مسایل میشی که تخصص از ...</td>\n",
       "      <td>1</td>\n",
       "      <td>0</td>\n",
       "      <td>0</td>\n",
       "      <td>0</td>\n",
       "      <td>0</td>\n",
       "      <td>1</td>\n",
       "    </tr>\n",
       "  </tbody>\n",
       "</table>\n",
       "</div>"
      ],
      "text/plain": [
       "                                                text  Anger  Fear  Happiness  \\\n",
       "0  کرونا رو شکست میدهیم؟\\nمرحله بعد چه گوهی میخوا...      1     1          0   \n",
       "1  اگر در چند ماه اخیر تصمیم داشته اید وارد بورس ...      1     1          0   \n",
       "2  یکی از پدرسوختگی های #برانداز اینه که ظاهرا ژس...      1     1          1   \n",
       "3                              یکی از دوستای دبستانم      0     0          0   \n",
       "4  @username اینقدر گرفتار مسایل میشی که تخصص از ...      1     0          0   \n",
       "\n",
       "   Hatred  Sadness  Wonder  \n",
       "0       1        1       1  \n",
       "1       1        1       1  \n",
       "2       1        1       1  \n",
       "3       0        0       0  \n",
       "4       0        0       1  "
      ]
     },
     "execution_count": 29,
     "metadata": {},
     "output_type": "execute_result"
    }
   ],
   "source": [
    "dfThreshold2.head()"
   ]
  },
  {
   "cell_type": "code",
   "execution_count": 30,
   "id": "5ad0ea4b-bd5f-41b6-84cc-21ef041d74ea",
   "metadata": {},
   "outputs": [
    {
     "data": {
      "text/html": [
       "<div>\n",
       "<style scoped>\n",
       "    .dataframe tbody tr th:only-of-type {\n",
       "        vertical-align: middle;\n",
       "    }\n",
       "\n",
       "    .dataframe tbody tr th {\n",
       "        vertical-align: top;\n",
       "    }\n",
       "\n",
       "    .dataframe thead th {\n",
       "        text-align: right;\n",
       "    }\n",
       "</style>\n",
       "<table border=\"1\" class=\"dataframe\">\n",
       "  <thead>\n",
       "    <tr style=\"text-align: right;\">\n",
       "      <th></th>\n",
       "      <th>text</th>\n",
       "      <th>Anger</th>\n",
       "      <th>Fear</th>\n",
       "      <th>Happiness</th>\n",
       "      <th>Hatred</th>\n",
       "      <th>Sadness</th>\n",
       "      <th>Wonder</th>\n",
       "    </tr>\n",
       "  </thead>\n",
       "  <tbody>\n",
       "    <tr>\n",
       "      <th>0</th>\n",
       "      <td>کرونا رو شکست میدهیم؟\\nمرحله بعد چه گوهی میخوا...</td>\n",
       "      <td>1</td>\n",
       "      <td>1</td>\n",
       "      <td>1</td>\n",
       "      <td>1</td>\n",
       "      <td>1</td>\n",
       "      <td>1</td>\n",
       "    </tr>\n",
       "    <tr>\n",
       "      <th>1</th>\n",
       "      <td>اگر در چند ماه اخیر تصمیم داشته اید وارد بورس ...</td>\n",
       "      <td>1</td>\n",
       "      <td>1</td>\n",
       "      <td>1</td>\n",
       "      <td>1</td>\n",
       "      <td>1</td>\n",
       "      <td>1</td>\n",
       "    </tr>\n",
       "    <tr>\n",
       "      <th>2</th>\n",
       "      <td>یکی از پدرسوختگی های #برانداز اینه که ظاهرا ژس...</td>\n",
       "      <td>1</td>\n",
       "      <td>1</td>\n",
       "      <td>1</td>\n",
       "      <td>1</td>\n",
       "      <td>1</td>\n",
       "      <td>1</td>\n",
       "    </tr>\n",
       "    <tr>\n",
       "      <th>3</th>\n",
       "      <td>یکی از دوستای دبستانم</td>\n",
       "      <td>1</td>\n",
       "      <td>0</td>\n",
       "      <td>0</td>\n",
       "      <td>1</td>\n",
       "      <td>0</td>\n",
       "      <td>0</td>\n",
       "    </tr>\n",
       "    <tr>\n",
       "      <th>4</th>\n",
       "      <td>@username اینقدر گرفتار مسایل میشی که تخصص از ...</td>\n",
       "      <td>1</td>\n",
       "      <td>1</td>\n",
       "      <td>0</td>\n",
       "      <td>1</td>\n",
       "      <td>0</td>\n",
       "      <td>1</td>\n",
       "    </tr>\n",
       "  </tbody>\n",
       "</table>\n",
       "</div>"
      ],
      "text/plain": [
       "                                                text  Anger  Fear  Happiness  \\\n",
       "0  کرونا رو شکست میدهیم؟\\nمرحله بعد چه گوهی میخوا...      1     1          1   \n",
       "1  اگر در چند ماه اخیر تصمیم داشته اید وارد بورس ...      1     1          1   \n",
       "2  یکی از پدرسوختگی های #برانداز اینه که ظاهرا ژس...      1     1          1   \n",
       "3                              یکی از دوستای دبستانم      1     0          0   \n",
       "4  @username اینقدر گرفتار مسایل میشی که تخصص از ...      1     1          0   \n",
       "\n",
       "   Hatred  Sadness  Wonder  \n",
       "0       1        1       1  \n",
       "1       1        1       1  \n",
       "2       1        1       1  \n",
       "3       1        0       0  \n",
       "4       1        0       1  "
      ]
     },
     "execution_count": 30,
     "metadata": {},
     "output_type": "execute_result"
    }
   ],
   "source": [
    "dfThreshold1.head()"
   ]
  },
  {
   "cell_type": "code",
   "execution_count": 38,
   "id": "9208fad7-d2de-40bb-b563-cd0c3d69823b",
   "metadata": {},
   "outputs": [],
   "source": [
    "import os\n",
    "\n",
    "if not os.path.exists('./modified_datasets/'):\n",
    "    os.makedirs('./modified_datasets/')"
   ]
  },
  {
   "cell_type": "code",
   "execution_count": 40,
   "id": "e1a9bea7-a1da-458e-8cfa-b280c6d6c0f4",
   "metadata": {},
   "outputs": [],
   "source": [
    "path = './modified_datasets/'\n",
    "\n",
    "dfThreshold1.to_csv(path + 'thresh1.csv', index=False)\n",
    "dfThreshold2.to_csv(path + 'thresh2.csv', index=False)\n",
    "dfThreshold3.to_csv(path + 'thresh3.csv', index=False)\n",
    "dfThreshold4.to_csv(path + 'thresh4.csv', index=False)\n",
    "dfThreshold5.to_csv(path + 'thresh5.csv', index=False)"
   ]
  },
  {
   "cell_type": "markdown",
   "id": "ca912efb-dbaf-463c-9e99-c3a0a36675f6",
   "metadata": {},
   "source": [
    "## Creating dataset with removing 2 and 3 values (uncertain values)"
   ]
  },
  {
   "cell_type": "code",
   "execution_count": 13,
   "id": "e22f841b-94da-435a-9d06-9a57903a5eb2",
   "metadata": {},
   "outputs": [],
   "source": [
    "df_uncertain_values = df[\n",
    "    ((df['Anger'] > 3) | (df['Anger'] < 2)) &\n",
    "    ((df['Fear'] > 3) | (df['Fear'] < 2)) &\n",
    "    ((df['Happiness'] > 3) | (df['Happiness'] < 2)) &\n",
    "    ((df['Hatred'] > 3) | (df['Hatred'] < 2)) &\n",
    "    ((df['Sadness'] > 3) | (df['Sadness'] < 2)) &\n",
    "    ((df['Wonder'] > 3) | (df['Wonder'] < 2))\n",
    "]"
   ]
  },
  {
   "cell_type": "code",
   "execution_count": 14,
   "id": "c679eeb5-7475-47ae-bda3-abfd8439722c",
   "metadata": {},
   "outputs": [
    {
     "data": {
      "text/html": [
       "<div>\n",
       "<style scoped>\n",
       "    .dataframe tbody tr th:only-of-type {\n",
       "        vertical-align: middle;\n",
       "    }\n",
       "\n",
       "    .dataframe tbody tr th {\n",
       "        vertical-align: top;\n",
       "    }\n",
       "\n",
       "    .dataframe thead th {\n",
       "        text-align: right;\n",
       "    }\n",
       "</style>\n",
       "<table border=\"1\" class=\"dataframe\">\n",
       "  <thead>\n",
       "    <tr style=\"text-align: right;\">\n",
       "      <th></th>\n",
       "      <th>text</th>\n",
       "      <th>Anger</th>\n",
       "      <th>Fear</th>\n",
       "      <th>Happiness</th>\n",
       "      <th>Hatred</th>\n",
       "      <th>Sadness</th>\n",
       "      <th>Wonder</th>\n",
       "    </tr>\n",
       "  </thead>\n",
       "  <tbody>\n",
       "    <tr>\n",
       "      <th>3</th>\n",
       "      <td>یکی از دوستای دبستانم</td>\n",
       "      <td>1</td>\n",
       "      <td>0</td>\n",
       "      <td>0</td>\n",
       "      <td>1</td>\n",
       "      <td>0</td>\n",
       "      <td>0</td>\n",
       "    </tr>\n",
       "    <tr>\n",
       "      <th>8</th>\n",
       "      <td>به نظرم بستگی به روحیه طرف داره</td>\n",
       "      <td>1</td>\n",
       "      <td>0</td>\n",
       "      <td>0</td>\n",
       "      <td>1</td>\n",
       "      <td>0</td>\n",
       "      <td>0</td>\n",
       "    </tr>\n",
       "    <tr>\n",
       "      <th>33</th>\n",
       "      <td>@username ای هارت رادیو همین الان یه ویدیو کوت...</td>\n",
       "      <td>1</td>\n",
       "      <td>0</td>\n",
       "      <td>0</td>\n",
       "      <td>1</td>\n",
       "      <td>0</td>\n",
       "      <td>0</td>\n",
       "    </tr>\n",
       "    <tr>\n",
       "      <th>40</th>\n",
       "      <td>دیوان داوری ورزش، تجدیدنظرخواهی باشگاه منچستر ...</td>\n",
       "      <td>0</td>\n",
       "      <td>0</td>\n",
       "      <td>0</td>\n",
       "      <td>1</td>\n",
       "      <td>0</td>\n",
       "      <td>1</td>\n",
       "    </tr>\n",
       "    <tr>\n",
       "      <th>48</th>\n",
       "      <td>آیینه را برای شما آدم ها ساختند که \\nببینید ای...</td>\n",
       "      <td>1</td>\n",
       "      <td>1</td>\n",
       "      <td>0</td>\n",
       "      <td>1</td>\n",
       "      <td>1</td>\n",
       "      <td>1</td>\n",
       "    </tr>\n",
       "    <tr>\n",
       "      <th>...</th>\n",
       "      <td>...</td>\n",
       "      <td>...</td>\n",
       "      <td>...</td>\n",
       "      <td>...</td>\n",
       "      <td>...</td>\n",
       "      <td>...</td>\n",
       "      <td>...</td>\n",
       "    </tr>\n",
       "    <tr>\n",
       "      <th>29989</th>\n",
       "      <td>یعنی دایناسورهام ممکنه کرونا گرفته باشن منقرض ...</td>\n",
       "      <td>0</td>\n",
       "      <td>1</td>\n",
       "      <td>1</td>\n",
       "      <td>1</td>\n",
       "      <td>1</td>\n",
       "      <td>0</td>\n",
       "    </tr>\n",
       "    <tr>\n",
       "      <th>29991</th>\n",
       "      <td>مایک پمپئو، وزیر خارجه آمریکا، با اشاره به تحر...</td>\n",
       "      <td>0</td>\n",
       "      <td>0</td>\n",
       "      <td>0</td>\n",
       "      <td>0</td>\n",
       "      <td>0</td>\n",
       "      <td>0</td>\n",
       "    </tr>\n",
       "    <tr>\n",
       "      <th>29994</th>\n",
       "      <td>@username امیدوارم زندانیان را ببهانه کرونا قل...</td>\n",
       "      <td>0</td>\n",
       "      <td>0</td>\n",
       "      <td>0</td>\n",
       "      <td>0</td>\n",
       "      <td>0</td>\n",
       "      <td>0</td>\n",
       "    </tr>\n",
       "    <tr>\n",
       "      <th>29997</th>\n",
       "      <td>@username اصلا اینطور نیست.\\nببین توی ایران سر...</td>\n",
       "      <td>0</td>\n",
       "      <td>0</td>\n",
       "      <td>1</td>\n",
       "      <td>1</td>\n",
       "      <td>1</td>\n",
       "      <td>0</td>\n",
       "    </tr>\n",
       "    <tr>\n",
       "      <th>29998</th>\n",
       "      <td>نفس نفسمان شده کنکور\\nشب و روزمان شده تلاش برا...</td>\n",
       "      <td>1</td>\n",
       "      <td>1</td>\n",
       "      <td>0</td>\n",
       "      <td>1</td>\n",
       "      <td>1</td>\n",
       "      <td>1</td>\n",
       "    </tr>\n",
       "  </tbody>\n",
       "</table>\n",
       "<p>10127 rows × 7 columns</p>\n",
       "</div>"
      ],
      "text/plain": [
       "                                                    text  Anger  Fear  \\\n",
       "3                                  یکی از دوستای دبستانم      1     0   \n",
       "8                       به نظرم بستگی به روحیه طرف داره       1     0   \n",
       "33     @username ای هارت رادیو همین الان یه ویدیو کوت...      1     0   \n",
       "40     دیوان داوری ورزش، تجدیدنظرخواهی باشگاه منچستر ...      0     0   \n",
       "48     آیینه را برای شما آدم ها ساختند که \\nببینید ای...      1     1   \n",
       "...                                                  ...    ...   ...   \n",
       "29989  یعنی دایناسورهام ممکنه کرونا گرفته باشن منقرض ...      0     1   \n",
       "29991  مایک پمپئو، وزیر خارجه آمریکا، با اشاره به تحر...      0     0   \n",
       "29994  @username امیدوارم زندانیان را ببهانه کرونا قل...      0     0   \n",
       "29997  @username اصلا اینطور نیست.\\nببین توی ایران سر...      0     0   \n",
       "29998  نفس نفسمان شده کنکور\\nشب و روزمان شده تلاش برا...      1     1   \n",
       "\n",
       "       Happiness  Hatred  Sadness  Wonder  \n",
       "3              0       1        0       0  \n",
       "8              0       1        0       0  \n",
       "33             0       1        0       0  \n",
       "40             0       1        0       1  \n",
       "48             0       1        1       1  \n",
       "...          ...     ...      ...     ...  \n",
       "29989          1       1        1       0  \n",
       "29991          0       0        0       0  \n",
       "29994          0       0        0       0  \n",
       "29997          1       1        1       0  \n",
       "29998          0       1        1       1  \n",
       "\n",
       "[10127 rows x 7 columns]"
      ]
     },
     "execution_count": 14,
     "metadata": {},
     "output_type": "execute_result"
    }
   ],
   "source": [
    "df_uncertain_values"
   ]
  },
  {
   "cell_type": "code",
   "execution_count": 16,
   "id": "8527535f-d922-492a-84c2-c4298b068103",
   "metadata": {},
   "outputs": [
    {
     "data": {
      "text/plain": [
       "0    5314\n",
       "1    4757\n",
       "4      52\n",
       "5       4\n",
       "Name: Anger, dtype: int64"
      ]
     },
     "execution_count": 16,
     "metadata": {},
     "output_type": "execute_result"
    }
   ],
   "source": [
    "df_uncertain_values['Anger'].value_counts()"
   ]
  },
  {
   "cell_type": "code",
   "execution_count": 17,
   "id": "e77a2ba7-86cc-4593-8f4a-32442abd262c",
   "metadata": {},
   "outputs": [
    {
     "data": {
      "text/plain": [
       "0    10071\n",
       "1       56\n",
       "Name: Anger, dtype: int64"
      ]
     },
     "execution_count": 17,
     "metadata": {},
     "output_type": "execute_result"
    }
   ],
   "source": [
    "df_uncertain_values = df_uncertain_values.replace([1], 0)\n",
    "df_uncertain_values = df_uncertain_values.replace([4], 1)\n",
    "df_uncertain_values = df_uncertain_values.replace([5], 1)\n",
    "df_uncertain_values['Anger'].value_counts()"
   ]
  },
  {
   "cell_type": "code",
   "execution_count": 18,
   "id": "980b2cc9-33a9-4aef-a0ca-a76169a57c1b",
   "metadata": {},
   "outputs": [],
   "source": [
    "df_uncertain_values.to_csv(\"../modified datasets/uncertain_removed.csv\")"
   ]
  },
  {
   "cell_type": "markdown",
   "id": "2a3524f7-ff57-4497-9497-6f8ee5341461",
   "metadata": {},
   "source": [
    "## Creating class by class dataset"
   ]
  },
  {
   "cell_type": "code",
   "execution_count": 3,
   "id": "35a7ba2e-a312-40d7-8db9-7fabd7e319ad",
   "metadata": {},
   "outputs": [],
   "source": [
    "def getDataframeWithSpecifiedTarget(df, targetColumnName):\n",
    "    result = df.copy()\n",
    "    return result[[\"text\", targetColumnName]]"
   ]
  },
  {
   "cell_type": "code",
   "execution_count": 4,
   "id": "200cde3b-7e7a-410d-93cb-d297785c8dc9",
   "metadata": {},
   "outputs": [],
   "source": [
    "dfAnger = getDataframeWithSpecifiedTarget(df, \"Anger\")\n",
    "dfFear = getDataframeWithSpecifiedTarget(df, \"Fear\")\n",
    "dfHappiness = getDataframeWithSpecifiedTarget(df, \"Happiness\")\n",
    "dfHatred = getDataframeWithSpecifiedTarget(df, \"Hatred\")\n",
    "dfSadness = getDataframeWithSpecifiedTarget(df, \"Sadness\")\n",
    "dfWonder = getDataframeWithSpecifiedTarget(df, \"Wonder\")"
   ]
  },
  {
   "cell_type": "code",
   "execution_count": 5,
   "id": "3f990334-2e10-44d9-b35a-4aa9156fa98e",
   "metadata": {},
   "outputs": [],
   "source": [
    "import os\n",
    "\n",
    "if not os.path.exists('./modified_datasets/'):\n",
    "    os.makedirs('./modified_datasets/')"
   ]
  },
  {
   "cell_type": "code",
   "execution_count": 6,
   "id": "0bd57166-b8f8-4b25-a3c6-fe3feb716a81",
   "metadata": {},
   "outputs": [],
   "source": [
    "path = './modified_datasets/'\n",
    "\n",
    "dfAnger.to_csv(path + 'anger.csv', index=False)\n",
    "dfFear.to_csv(path + 'fear.csv', index=False)\n",
    "dfHappiness.to_csv(path + 'happiness.csv', index=False)\n",
    "dfHatred.to_csv(path + 'hatred.csv', index=False)\n",
    "dfSadness.to_csv(path + 'sadness.csv', index=False)\n",
    "dfWonder.to_csv(path + 'wonder.csv', index=False)"
   ]
  }
 ],
 "metadata": {
  "kernelspec": {
   "display_name": "Python 3",
   "language": "python",
   "name": "python3"
  },
  "language_info": {
   "codemirror_mode": {
    "name": "ipython",
    "version": 3
   },
   "file_extension": ".py",
   "mimetype": "text/x-python",
   "name": "python",
   "nbconvert_exporter": "python",
   "pygments_lexer": "ipython3",
   "version": "3.8.10"
  }
 },
 "nbformat": 4,
 "nbformat_minor": 5
}
